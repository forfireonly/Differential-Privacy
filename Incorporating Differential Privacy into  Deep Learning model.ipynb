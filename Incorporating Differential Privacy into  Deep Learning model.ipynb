{
 "cells": [
  {
   "cell_type": "code",
   "execution_count": 1,
   "metadata": {},
   "outputs": [],
   "source": [
    "import torch\n",
    "import torchvision\n",
    "import torchvision.datasets as datasets\n",
    "import torchvision.transforms as transforms"
   ]
  },
  {
   "cell_type": "code",
   "execution_count": 6,
   "metadata": {},
   "outputs": [],
   "source": [
    "transform = transforms.Compose([transforms.ToTensor(),\n",
    "                             transforms.Normalize((0.5,),(0.5,))])"
   ]
  },
  {
   "cell_type": "code",
   "execution_count": 7,
   "metadata": {},
   "outputs": [
    {
     "name": "stdout",
     "output_type": "stream",
     "text": [
      "Downloading http://yann.lecun.com/exdb/mnist/train-images-idx3-ubyte.gz to data/MNIST/raw/train-images-idx3-ubyte.gz\n"
     ]
    },
    {
     "name": "stderr",
     "output_type": "stream",
     "text": [
      "100.1%"
     ]
    },
    {
     "name": "stdout",
     "output_type": "stream",
     "text": [
      "Extracting data/MNIST/raw/train-images-idx3-ubyte.gz\n",
      "Downloading http://yann.lecun.com/exdb/mnist/train-labels-idx1-ubyte.gz to data/MNIST/raw/train-labels-idx1-ubyte.gz\n"
     ]
    },
    {
     "name": "stderr",
     "output_type": "stream",
     "text": [
      "113.5%"
     ]
    },
    {
     "name": "stdout",
     "output_type": "stream",
     "text": [
      "Extracting data/MNIST/raw/train-labels-idx1-ubyte.gz\n",
      "Downloading http://yann.lecun.com/exdb/mnist/t10k-images-idx3-ubyte.gz to data/MNIST/raw/t10k-images-idx3-ubyte.gz\n"
     ]
    },
    {
     "name": "stderr",
     "output_type": "stream",
     "text": [
      "100.4%"
     ]
    },
    {
     "name": "stdout",
     "output_type": "stream",
     "text": [
      "Extracting data/MNIST/raw/t10k-images-idx3-ubyte.gz\n",
      "Downloading http://yann.lecun.com/exdb/mnist/t10k-labels-idx1-ubyte.gz to data/MNIST/raw/t10k-labels-idx1-ubyte.gz\n"
     ]
    },
    {
     "name": "stderr",
     "output_type": "stream",
     "text": [
      "180.4%"
     ]
    },
    {
     "name": "stdout",
     "output_type": "stream",
     "text": [
      "Extracting data/MNIST/raw/t10k-labels-idx1-ubyte.gz\n",
      "Processing...\n",
      "Done!\n"
     ]
    }
   ],
   "source": [
    "train_data = datasets.MNIST(root='data', train=True, download=True, transform=transform)\n",
    "test_data = datasets.MNIST(root='data', train=False, download=True, transform=transform)"
   ]
  },
  {
   "cell_type": "code",
   "execution_count": 9,
   "metadata": {},
   "outputs": [],
   "source": [
    "from torch.utils.data import Subset\n"
   ]
  },
  {
   "cell_type": "code",
   "execution_count": 10,
   "metadata": {},
   "outputs": [],
   "source": [
    "num_teachers = 100 # Define the num of teachers\n",
    "batch_size = 32 # Teacher batch size\n",
    "\n",
    "def get_data_loaders(train_data, num_teachers):\n",
    "    \"\"\" Function to create data loaders for the Teacher classifier \"\"\"\n",
    "    teacher_loaders = []\n",
    "    data_size = len(train_data) // num_teachers\n",
    "    \n",
    "    for i in range(data_size):\n",
    "        indices = list(range(i*data_size, (i+1)*data_size))\n",
    "        subset_data = Subset(train_data, indices)\n",
    "        loader = torch.utils.data.DataLoader(subset_data, batch_size=batch_size)\n",
    "        teacher_loaders.append(loader)\n",
    "        \n",
    "    return teacher_loaders\n",
    "\n",
    "teacher_loaders = get_data_loaders(train_data, num_teachers)"
   ]
  },
  {
   "cell_type": "code",
   "execution_count": 11,
   "metadata": {},
   "outputs": [],
   "source": [
    "# Create the public dataset by using 90% of the Test data as train #data and remaining 10% as test data.\n",
    "student_train_data = Subset(test_data, list(range(9000)))\n",
    "student_test_data = Subset(test_data, list(range(9000, 10000)))\n",
    "\n",
    "student_train_loader = torch.utils.data.DataLoader(student_train_data, batch_size=batch_size)\n",
    "student_test_loader = torch.utils.data.DataLoader(student_test_data, batch_size=batch_size)"
   ]
  },
  {
   "cell_type": "code",
   "execution_count": 12,
   "metadata": {},
   "outputs": [],
   "source": [
    "#Define a simple CNN to classify the MNIST digits.\n",
    "import torch.nn as nn\n",
    "import torch.nn.functional as F\n",
    "import torch.optim as optim\n",
    "\n",
    "class Classifier(nn.Module):\n",
    "    \"\"\" A Simple Feed Forward Neural Network. \n",
    "        A CNN can also be used for this problem \n",
    "    \"\"\"\n",
    "    def __init__(self):\n",
    "        super().__init__()\n",
    "        \n",
    "        self.conv1 = nn.Conv2d(1, 10, kernel_size=5)\n",
    "        self.conv2 = nn.Conv2d(10, 20, kernel_size=5)\n",
    "        self.conv2_drop = nn.Dropout2d()\n",
    "        self.fc1 = nn.Linear(320, 50)\n",
    "        self.fc2 = nn.Linear(50, 10)\n",
    "    \n",
    "    def forward(self, x):\n",
    "        x = F.relu(F.max_pool2d(self.conv1(x), 2))\n",
    "        x = F.relu(F.max_pool2d(self.conv2_drop(self.conv2(x)), 2))\n",
    "        x = x.view(-1, 320)\n",
    "        x = F.relu(self.fc1(x))\n",
    "        x = F.dropout(x, training=self.training)\n",
    "        x = self.fc2(x)\n",
    "        return F.log_softmax(x)"
   ]
  },
  {
   "cell_type": "code",
   "execution_count": 13,
   "metadata": {},
   "outputs": [],
   "source": [
    "#Now define the train and predict functions\n",
    "def train(model, trainloader, criterion, optimizer, epochs=10):\n",
    "    \"\"\" This function trains a single Classifier model \"\"\"\n",
    "    running_loss = 0\n",
    "    for e in range(epochs):\n",
    "        model.train()\n",
    "        \n",
    "        for images, labels in trainloader:\n",
    "            optimizer.zero_grad()\n",
    "            \n",
    "            output = model.forward(images)\n",
    "            loss = criterion(output, labels)\n",
    "            loss.backward()\n",
    "            optimizer.step()\n",
    "            \n",
    "            running_loss += loss.item()\n",
    "            \n",
    "            "
   ]
  },
  {
   "cell_type": "markdown",
   "metadata": {},
   "source": [
    "def predict(model, dataloader):\n",
    "    \"\"\" This function predicts labels for a dataset \n",
    "        given the model and dataloader as inputs. \n",
    "    \"\"\"\n",
    "    outputs = torch.zeros(0, dtype=torch.long)\n",
    "    model.eval()\n",
    "    \n",
    "    for images, labels in dataloader:\n",
    "        output = model.forward(images)\n",
    "        ps = torch.argmax(torch.exp(output), dim=1)\n",
    "        outputs = torch.cat((outputs, ps))\n",
    "        \n",
    "    return outputs"
   ]
  },
  {
   "cell_type": "code",
   "execution_count": 15,
   "metadata": {},
   "outputs": [],
   "source": [
    "def predict(model, dataloader):\n",
    "    \"\"\" This function predicts labels for a dataset \n",
    "        given the model and dataloader as inputs. \n",
    "    \"\"\"\n",
    "    outputs = torch.zeros(0, dtype=torch.long)\n",
    "    model.eval()\n",
    "    \n",
    "    for images, labels in dataloader:\n",
    "        output = model.forward(images)\n",
    "        ps = torch.argmax(torch.exp(output), dim=1)\n",
    "        outputs = torch.cat((outputs, ps))\n",
    "        \n",
    "    return outputs"
   ]
  },
  {
   "cell_type": "code",
   "execution_count": 16,
   "metadata": {},
   "outputs": [],
   "source": [
    "def train_models(num_teachers):\n",
    "    \"\"\" Trains *num_teacher* models (num_teachers being the number of teacher classifiers) \"\"\"\n",
    "    models = []\n",
    "    for i in range(num_teachers):\n",
    "        model = Classifier()\n",
    "        criterion = nn.NLLLoss()\n",
    "        optimizer = optim.Adam(model.parameters(), lr=0.003)\n",
    "        train(model, teacher_loaders[i], criterion, optimizer)\n",
    "        models.append(model)\n",
    "    return models"
   ]
  },
  {
   "cell_type": "code",
   "execution_count": 17,
   "metadata": {},
   "outputs": [
    {
     "name": "stderr",
     "output_type": "stream",
     "text": [
      "/Users/annascott/miniconda3/envs/pysyft/lib/python3.7/site-packages/ipykernel_launcher.py:26: UserWarning: Implicit dimension choice for log_softmax has been deprecated. Change the call to include dim=X as an argument.\n"
     ]
    }
   ],
   "source": [
    "models = train_models(num_teachers)"
   ]
  },
  {
   "cell_type": "markdown",
   "metadata": {},
   "source": [
    "Now, we need to choose the epsilon value for which we first define the formal definition of Differential Privacy\n",
    "\n",
    "This definition does not create differential privacy, instead, it is a measure of how much privacy is afforded by a query M. Specifically, it’s a comparison between running the query M on a database (x) and a parallel database (y). As you remember, parallel databases are defined to be the same as a full database (x) with one entry/person removed.\n",
    "\n",
    "Thus, this definition says that FOR ALL parallel databases, the maximum distance between a query on database (x) and the same query on database (y) will be e^epsilon, but that occasionally this constraint won’t hold with probability delta. Thus, this theorem is called “epsilon-delta” differential privacy.\n",
    "\n",
    "How much noise should we add?\n",
    "\n",
    "The amount of noise necessary to add to the output of a query is a function of four things:\n",
    "\n",
    "the type of noise (Gaussian/Laplacian)\n",
    "the sensitivity of the query/function\n",
    "the desired epsilon (ε)\n",
    "the desired delta (δ)\n",
    "Thus, for each type of noise we’re adding, we have a different way of calculating how much to add as a function of sensitivity, epsilon, and delta. We’re going to focus on Laplacian noise.\n",
    "\n",
    "Laplacian noise is increased/decreased according to a “scale” parameter b. We choose “b” based on the following formula.\n",
    "\n",
    "b = sensitivity(query) / epsilon\n",
    "\n",
    "In other words, if we set b to be this value, then we know that we will have a privacy leakage of <= epsilon. Furthermore, the nice thing about Laplace is that it guarantees this with delta == 0. There are some tunings where we can have very low epsilon where delta is non-zero, but we’ll ignore them for now.\n",
    "\n"
   ]
  },
  {
   "cell_type": "code",
   "execution_count": 18,
   "metadata": {},
   "outputs": [],
   "source": [
    "import numpy as np\n",
    "\n",
    "epsilon = 0.2"
   ]
  },
  {
   "cell_type": "code",
   "execution_count": 19,
   "metadata": {},
   "outputs": [],
   "source": [
    "def aggregated_teacher(models, dataloader, epsilon):\n",
    "    \"\"\" Take predictions from individual teacher model and \n",
    "        creates the true labels for the student after adding \n",
    "        laplacian noise to them \n",
    "    \"\"\"\n",
    "    preds = torch.torch.zeros((len(models), 9000), dtype=torch.long)\n",
    "    for i, model in enumerate(models):\n",
    "        results = predict(model, dataloader)\n",
    "        preds[i] = results\n",
    "    \n",
    "    labels = np.array([]).astype(int)\n",
    "    for image_preds in np.transpose(preds):\n",
    "        label_counts = np.bincount(image_preds, minlength=10)\n",
    "        beta = 1 / epsilon\n",
    "\n",
    "        for i in range(len(label_counts)):\n",
    "            label_counts[i] += np.random.laplace(0, beta, 1)\n",
    "\n",
    "        new_label = np.argmax(label_counts)\n",
    "        labels = np.append(labels, new_label)\n",
    "    \n",
    "    return preds.numpy(), labels"
   ]
  },
  {
   "cell_type": "code",
   "execution_count": 20,
   "metadata": {},
   "outputs": [
    {
     "name": "stderr",
     "output_type": "stream",
     "text": [
      "/Users/annascott/miniconda3/envs/pysyft/lib/python3.7/site-packages/ipykernel_launcher.py:26: UserWarning: Implicit dimension choice for log_softmax has been deprecated. Change the call to include dim=X as an argument.\n"
     ]
    }
   ],
   "source": [
    "teacher_models = models\n",
    "preds, student_labels = aggregated_teacher(teacher_models, student_train_loader, epsilon)"
   ]
  },
  {
   "cell_type": "code",
   "execution_count": 21,
   "metadata": {},
   "outputs": [],
   "source": [
    "#Create the Student model and train it using the labels generated above\n",
    "def student_loader(student_train_loader, labels):\n",
    "    for i, (data, _) in enumerate(iter(student_train_loader)):\n",
    "        yield data, torch.from_numpy(labels[i*len(data): (i+1)*len(data)])"
   ]
  },
  {
   "cell_type": "code",
   "execution_count": 22,
   "metadata": {},
   "outputs": [
    {
     "name": "stderr",
     "output_type": "stream",
     "text": [
      "/Users/annascott/miniconda3/envs/pysyft/lib/python3.7/site-packages/ipykernel_launcher.py:26: UserWarning: Implicit dimension choice for log_softmax has been deprecated. Change the call to include dim=X as an argument.\n"
     ]
    },
    {
     "name": "stdout",
     "output_type": "stream",
     "text": [
      "Epoch: 1/10..  Training Loss: 0.333..  Test Loss: 1.201..  Test Accuracy: 0.646\n",
      "Epoch: 1/10..  Training Loss: 0.191..  Test Loss: 0.620..  Test Accuracy: 0.797\n",
      "Epoch: 1/10..  Training Loss: 0.129..  Test Loss: 0.385..  Test Accuracy: 0.888\n",
      "Epoch: 1/10..  Training Loss: 0.083..  Test Loss: 0.354..  Test Accuracy: 0.905\n",
      "Epoch: 1/10..  Training Loss: 0.085..  Test Loss: 0.272..  Test Accuracy: 0.925\n",
      "Epoch: 2/10..  Training Loss: 0.139..  Test Loss: 0.462..  Test Accuracy: 0.896\n",
      "Epoch: 2/10..  Training Loss: 0.099..  Test Loss: 0.303..  Test Accuracy: 0.905\n",
      "Epoch: 2/10..  Training Loss: 0.080..  Test Loss: 0.230..  Test Accuracy: 0.934\n",
      "Epoch: 2/10..  Training Loss: 0.077..  Test Loss: 0.252..  Test Accuracy: 0.923\n",
      "Epoch: 2/10..  Training Loss: 0.054..  Test Loss: 0.218..  Test Accuracy: 0.938\n",
      "Epoch: 2/10..  Training Loss: 0.053..  Test Loss: 0.253..  Test Accuracy: 0.935\n",
      "Epoch: 3/10..  Training Loss: 0.112..  Test Loss: 0.266..  Test Accuracy: 0.933\n",
      "Epoch: 3/10..  Training Loss: 0.077..  Test Loss: 0.227..  Test Accuracy: 0.933\n",
      "Epoch: 3/10..  Training Loss: 0.073..  Test Loss: 0.198..  Test Accuracy: 0.943\n",
      "Epoch: 3/10..  Training Loss: 0.057..  Test Loss: 0.207..  Test Accuracy: 0.938\n",
      "Epoch: 3/10..  Training Loss: 0.049..  Test Loss: 0.199..  Test Accuracy: 0.943\n",
      "Epoch: 4/10..  Training Loss: 0.094..  Test Loss: 0.209..  Test Accuracy: 0.947\n",
      "Epoch: 4/10..  Training Loss: 0.079..  Test Loss: 0.210..  Test Accuracy: 0.938\n",
      "Epoch: 4/10..  Training Loss: 0.068..  Test Loss: 0.221..  Test Accuracy: 0.943\n",
      "Epoch: 4/10..  Training Loss: 0.064..  Test Loss: 0.194..  Test Accuracy: 0.945\n",
      "Epoch: 4/10..  Training Loss: 0.040..  Test Loss: 0.207..  Test Accuracy: 0.941\n",
      "Epoch: 4/10..  Training Loss: 0.047..  Test Loss: 0.216..  Test Accuracy: 0.943\n",
      "Epoch: 5/10..  Training Loss: 0.085..  Test Loss: 0.227..  Test Accuracy: 0.943\n",
      "Epoch: 5/10..  Training Loss: 0.062..  Test Loss: 0.198..  Test Accuracy: 0.946\n",
      "Epoch: 5/10..  Training Loss: 0.063..  Test Loss: 0.184..  Test Accuracy: 0.946\n",
      "Epoch: 5/10..  Training Loss: 0.052..  Test Loss: 0.187..  Test Accuracy: 0.944\n",
      "Epoch: 5/10..  Training Loss: 0.039..  Test Loss: 0.197..  Test Accuracy: 0.938\n",
      "Epoch: 5/10..  Training Loss: 0.044..  Test Loss: 0.214..  Test Accuracy: 0.943\n",
      "Epoch: 6/10..  Training Loss: 0.107..  Test Loss: 0.207..  Test Accuracy: 0.931\n",
      "Epoch: 6/10..  Training Loss: 0.055..  Test Loss: 0.174..  Test Accuracy: 0.946\n",
      "Epoch: 6/10..  Training Loss: 0.054..  Test Loss: 0.182..  Test Accuracy: 0.943\n",
      "Epoch: 6/10..  Training Loss: 0.044..  Test Loss: 0.191..  Test Accuracy: 0.948\n",
      "Epoch: 6/10..  Training Loss: 0.038..  Test Loss: 0.178..  Test Accuracy: 0.948\n",
      "Epoch: 7/10..  Training Loss: 0.061..  Test Loss: 0.243..  Test Accuracy: 0.935\n",
      "Epoch: 7/10..  Training Loss: 0.069..  Test Loss: 0.180..  Test Accuracy: 0.942\n",
      "Epoch: 7/10..  Training Loss: 0.059..  Test Loss: 0.171..  Test Accuracy: 0.944\n",
      "Epoch: 7/10..  Training Loss: 0.054..  Test Loss: 0.173..  Test Accuracy: 0.944\n",
      "Epoch: 7/10..  Training Loss: 0.039..  Test Loss: 0.196..  Test Accuracy: 0.947\n",
      "Epoch: 7/10..  Training Loss: 0.032..  Test Loss: 0.165..  Test Accuracy: 0.953\n",
      "Epoch: 8/10..  Training Loss: 0.063..  Test Loss: 0.204..  Test Accuracy: 0.941\n",
      "Epoch: 8/10..  Training Loss: 0.062..  Test Loss: 0.175..  Test Accuracy: 0.947\n",
      "Epoch: 8/10..  Training Loss: 0.050..  Test Loss: 0.169..  Test Accuracy: 0.949\n",
      "Epoch: 8/10..  Training Loss: 0.050..  Test Loss: 0.189..  Test Accuracy: 0.941\n",
      "Epoch: 8/10..  Training Loss: 0.040..  Test Loss: 0.194..  Test Accuracy: 0.946\n",
      "Epoch: 8/10..  Training Loss: 0.031..  Test Loss: 0.184..  Test Accuracy: 0.950\n",
      "Epoch: 9/10..  Training Loss: 0.089..  Test Loss: 0.191..  Test Accuracy: 0.941\n",
      "Epoch: 9/10..  Training Loss: 0.053..  Test Loss: 0.178..  Test Accuracy: 0.947\n",
      "Epoch: 9/10..  Training Loss: 0.047..  Test Loss: 0.199..  Test Accuracy: 0.936\n",
      "Epoch: 9/10..  Training Loss: 0.035..  Test Loss: 0.203..  Test Accuracy: 0.946\n",
      "Epoch: 9/10..  Training Loss: 0.033..  Test Loss: 0.184..  Test Accuracy: 0.952\n",
      "Epoch: 10/10..  Training Loss: 0.061..  Test Loss: 0.176..  Test Accuracy: 0.953\n",
      "Epoch: 10/10..  Training Loss: 0.057..  Test Loss: 0.164..  Test Accuracy: 0.953\n",
      "Epoch: 10/10..  Training Loss: 0.041..  Test Loss: 0.187..  Test Accuracy: 0.952\n",
      "Epoch: 10/10..  Training Loss: 0.050..  Test Loss: 0.197..  Test Accuracy: 0.945\n",
      "Epoch: 10/10..  Training Loss: 0.035..  Test Loss: 0.211..  Test Accuracy: 0.949\n",
      "Epoch: 10/10..  Training Loss: 0.031..  Test Loss: 0.214..  Test Accuracy: 0.952\n"
     ]
    }
   ],
   "source": [
    "student_model = Classifier()\n",
    "criterion = nn.NLLLoss()\n",
    "optimizer = optim.Adam(student_model.parameters(), lr=0.003)\n",
    "epochs = 10\n",
    "steps = 0\n",
    "running_loss = 0\n",
    "for e in range(epochs):\n",
    "    student_model.train()\n",
    "    train_loader = student_loader(student_train_loader, student_labels)\n",
    "    for images, labels in train_loader:\n",
    "        steps += 1\n",
    "        \n",
    "        optimizer.zero_grad()\n",
    "        output = student_model.forward(images)\n",
    "        loss = criterion(output, labels)\n",
    "        loss.backward()\n",
    "        optimizer.step()\n",
    "\n",
    "        running_loss += loss.item()\n",
    "        \n",
    "        if steps % 50 == 0:\n",
    "            test_loss = 0\n",
    "            accuracy = 0\n",
    "            student_model.eval()\n",
    "            with torch.no_grad():\n",
    "                for images, labels in student_test_loader:\n",
    "                    log_ps = student_model(images)\n",
    "                    test_loss += criterion(log_ps, labels).item()\n",
    "                    \n",
    "                    # Accuracy\n",
    "                    ps = torch.exp(log_ps)\n",
    "                    top_p, top_class = ps.topk(1, dim=1)\n",
    "                    equals = top_class == labels.view(*top_class.shape)\n",
    "                    accuracy += torch.mean(equals.type(torch.FloatTensor))\n",
    "            student_model.train()\n",
    "            print(\"Epoch: {}/{}.. \".format(e+1, epochs),\n",
    "                  \"Training Loss: {:.3f}.. \".format(running_loss/len(student_train_loader)),\n",
    "                  \"Test Loss: {:.3f}.. \".format(test_loss/len(student_test_loader)),\n",
    "                  \"Test Accuracy: {:.3f}\".format(accuracy/len(student_test_loader)))\n",
    "            running_loss = 0\n"
   ]
  },
  {
   "cell_type": "code",
   "execution_count": 23,
   "metadata": {},
   "outputs": [
    {
     "name": "stderr",
     "output_type": "stream",
     "text": [
      "WARNING: Logging before flag parsing goes to stderr.\n",
      "W0731 22:04:29.687870 4347536832 secure_random.py:26] Falling back to insecure randomness since the required custom op could not be found for the installed version of TensorFlow. Fix this by compiling custom ops. Missing file was '/Users/annascott/miniconda3/envs/pysyft/lib/python3.7/site-packages/tf_encrypted/operations/secure_random/secure_random_module_tf_1.14.0.so'\n",
      "W0731 22:04:29.703739 4347536832 deprecation_wrapper.py:119] From /Users/annascott/miniconda3/envs/pysyft/lib/python3.7/site-packages/tf_encrypted/session.py:26: The name tf.Session is deprecated. Please use tf.compat.v1.Session instead.\n",
      "\n"
     ]
    },
    {
     "name": "stdout",
     "output_type": "stream",
     "text": [
      "Data Independent Epsilon: 1451.5129254649705\n",
      "Data Dependent Epsilon: 14.581123135054918\n"
     ]
    }
   ],
   "source": [
    "#Perform PATE Analysis on the student labels generated by the Aggregated Teacher\n",
    "from syft.frameworks.torch.differential_privacy import pate\n",
    "\n",
    "data_dep_eps, data_ind_eps = pate.perform_analysis(teacher_preds=preds, indices=student_labels, noise_eps=epsilon, delta=1e-5)\n",
    "print(\"Data Independent Epsilon:\", data_ind_eps)\n",
    "print(\"Data Dependent Epsilon:\", data_dep_eps)"
   ]
  },
  {
   "cell_type": "markdown",
   "metadata": {},
   "source": [
    "The pate.perform_analysis method returns two values – a data-independent epsilon and a data-dependent epsilon. The data-dependent epsilon is the epsilon value obtained by looking at how much the teachers agree with each other. In a way, the PATE analysis rewards the user for building teacher models which agree with each other because it becomes harder to leak information and track individual information."
   ]
  },
  {
   "cell_type": "code",
   "execution_count": null,
   "metadata": {},
   "outputs": [],
   "source": []
  }
 ],
 "metadata": {
  "kernelspec": {
   "display_name": "Python 3",
   "language": "python",
   "name": "python3"
  },
  "language_info": {
   "codemirror_mode": {
    "name": "ipython",
    "version": 3
   },
   "file_extension": ".py",
   "mimetype": "text/x-python",
   "name": "python",
   "nbconvert_exporter": "python",
   "pygments_lexer": "ipython3",
   "version": "3.7.3"
  }
 },
 "nbformat": 4,
 "nbformat_minor": 2
}
